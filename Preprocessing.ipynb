{
 "cells": [
  {
   "cell_type": "code",
   "execution_count": 9,
   "metadata": {},
   "outputs": [],
   "source": [
    "import pandas as pd\n",
    "import numpy as np\n",
    "import math\n",
    "import time"
   ]
  },
  {
   "cell_type": "code",
   "execution_count": 10,
   "metadata": {},
   "outputs": [],
   "source": [
    "train=pd.read_csv(\"train.csv\")\n",
    "evaluation=pd.read_csv(\"evaluation.csv\")"
   ]
  },
  {
   "cell_type": "code",
   "execution_count": 11,
   "metadata": {},
   "outputs": [],
   "source": [
    "#extract week day and hour from the timestamp\n",
    "\n",
    "def preprocess_day(timestamp):\n",
    "    dico_day={\"Mon\":0,\"Tue\":1,\"Wed\":2,\"Thu\":3,\"Fri\":4,\"Sat\":5,\"Sun\":6}\n",
    "    res=7*[0]\n",
    "    res[dico_day[time.ctime(int(str(timestamp)[:-3]))[:3]]]=1\n",
    "    return res\n",
    "\n",
    "def preprocess_time(timestamp):\n",
    "    res=24*[0]\n",
    "    res[int(time.ctime(int(str(timestamp)[:-3]))[11:13])]=1\n",
    "    return res\n",
    "\n",
    "df=pd.DataFrame(train[\"timestamp\"])\n",
    "train[\"day\"] = df.applymap(lambda x: preprocess_day(x))\n",
    "train[\"time\"] = df.applymap(lambda x: preprocess_time(x))\n",
    "train = train.drop(columns=\"timestamp\")\n",
    "\n",
    "df=pd.DataFrame(evaluation[\"timestamp\"])\n",
    "evaluation[\"day\"] = df.applymap(lambda x: preprocess_day(x))\n",
    "evaluation[\"time\"] = df.applymap(lambda x: preprocess_time(x))\n",
    "evaluation = evaluation.drop(columns=\"timestamp\")"
   ]
  },
  {
   "cell_type": "code",
   "execution_count": 12,
   "metadata": {},
   "outputs": [],
   "source": [
    "#replace the boolean by its int value\n",
    "df=pd.DataFrame(train[\"user_verified\"])\n",
    "train[\"user_verified\"]=df.applymap(lambda x: int(x))\n",
    "\n",
    "df=pd.DataFrame(evaluation[\"user_verified\"])\n",
    "evaluation[\"user_verified\"]=df.applymap(lambda x: int(x))"
   ]
  },
  {
   "cell_type": "code",
   "execution_count": 13,
   "metadata": {},
   "outputs": [],
   "source": [
    "#centrer & réduire --> on utilise les paramètres stats des données d'entraînement\n",
    "cols=[\"user_statuses_count\",\"user_followers_count\",\"user_friends_count\"]\n",
    "for c in cols:\n",
    "    df=pd.DataFrame(train[c])\n",
    "    df2=pd.DataFrame(evaluation[c])\n",
    "    m=train[c].mean()\n",
    "    v=math.sqrt(train[c].var())\n",
    "    train[c]=df.applymap(lambda x: (x-m)/v)\n",
    "    evaluation[c]=df2.applymap(lambda x: (x-m)/v)"
   ]
  },
  {
   "cell_type": "code",
   "execution_count": 14,
   "metadata": {},
   "outputs": [],
   "source": [
    "#count the number of \n",
    "def count_occ(s):\n",
    "    if type(s)==str:\n",
    "        return len(s.split(\",\"))\n",
    "    else:\n",
    "        return 0\n",
    "\n",
    "cols=[\"user_mentions\",\"urls\",\"hashtags\"]\n",
    "for c in cols:\n",
    "    df=pd.DataFrame(train[c])\n",
    "    df2=pd.DataFrame(evaluation[c])\n",
    "    train[c]=df.applymap(lambda x: count_occ(x))\n",
    "    evaluation[c]=df2.applymap(lambda x: count_occ(x))"
   ]
  },
  {
   "cell_type": "code",
   "execution_count": 18,
   "metadata": {},
   "outputs": [],
   "source": [
    "evaluation=evaluation.drop(columns=[\"text\"])"
   ]
  },
  {
   "cell_type": "code",
   "execution_count": 15,
   "metadata": {},
   "outputs": [],
   "source": [
    "np.save(\"data_preprocessed.npy\",data)\n",
    "np.save(\"data_columns.npy\",list(data.columns))"
   ]
  },
  {
   "cell_type": "code",
   "execution_count": 19,
   "metadata": {},
   "outputs": [],
   "source": [
    "np.save(\"test_preprocessed.npy\",evaluation)\n",
    "np.save(\"test_columns.npy\",list(evaluation.columns))"
   ]
  },
  {
   "cell_type": "code",
   "execution_count": null,
   "metadata": {},
   "outputs": [],
   "source": []
  }
 ],
 "metadata": {
  "kernelspec": {
   "display_name": "Python 3",
   "language": "python",
   "name": "python3"
  },
  "language_info": {
   "codemirror_mode": {
    "name": "ipython",
    "version": 3
   },
   "file_extension": ".py",
   "mimetype": "text/x-python",
   "name": "python",
   "nbconvert_exporter": "python",
   "pygments_lexer": "ipython3",
   "version": "3.7.9"
  }
 },
 "nbformat": 4,
 "nbformat_minor": 4
}
