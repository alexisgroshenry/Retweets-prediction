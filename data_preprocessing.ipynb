{
 "cells": [
  {
   "cell_type": "code",
   "execution_count": 1,
   "metadata": {},
   "outputs": [
    {
     "ename": "ModuleNotFoundError",
     "evalue": "No module named 'spacy'",
     "output_type": "error",
     "traceback": [
      "\u001b[0;31m---------------------------------------------------------------------------\u001b[0m",
      "\u001b[0;31mModuleNotFoundError\u001b[0m                       Traceback (most recent call last)",
      "\u001b[0;32m<ipython-input-1-291db97a9ce5>\u001b[0m in \u001b[0;36m<module>\u001b[0;34m\u001b[0m\n\u001b[1;32m      2\u001b[0m \u001b[0;32mimport\u001b[0m \u001b[0mmath\u001b[0m\u001b[0;34m\u001b[0m\u001b[0;34m\u001b[0m\u001b[0m\n\u001b[1;32m      3\u001b[0m \u001b[0;32mimport\u001b[0m \u001b[0mtime\u001b[0m\u001b[0;34m\u001b[0m\u001b[0;34m\u001b[0m\u001b[0m\n\u001b[0;32m----> 4\u001b[0;31m \u001b[0;32mimport\u001b[0m \u001b[0mspacy\u001b[0m\u001b[0;34m\u001b[0m\u001b[0;34m\u001b[0m\u001b[0m\n\u001b[0m\u001b[1;32m      5\u001b[0m \u001b[0;32mimport\u001b[0m \u001b[0mnltk\u001b[0m\u001b[0;34m\u001b[0m\u001b[0;34m\u001b[0m\u001b[0m\n\u001b[1;32m      6\u001b[0m \u001b[0;32mfrom\u001b[0m \u001b[0mnltk\u001b[0m\u001b[0;34m.\u001b[0m\u001b[0mcorpus\u001b[0m \u001b[0;32mimport\u001b[0m \u001b[0mstopwords\u001b[0m\u001b[0;34m\u001b[0m\u001b[0;34m\u001b[0m\u001b[0m\n",
      "\u001b[0;31mModuleNotFoundError\u001b[0m: No module named 'spacy'"
     ]
    }
   ],
   "source": [
    "import pandas as pd\n",
    "import math\n",
    "import time\n",
    "import spacy\n",
    "import nltk\n",
    "from nltk.corpus import stopwords\n",
    "from nltk.tokenize import word_tokenize  \n",
    "import json\n",
    "import numpy as np\n",
    "import torch\n",
    "import torch.nn as nn\n",
    "import torchvision\n",
    "from torchvision import datasets, transforms\n",
    "import matplotlib.pyplot as plt"
   ]
  },
  {
   "cell_type": "markdown",
   "metadata": {},
   "source": [
    "## Load the data after it has been preprocessed with the sentiment classifier"
   ]
  },
  {
   "cell_type": "code",
   "execution_count": 9,
   "metadata": {},
   "outputs": [],
   "source": [
    "train = np.load(\"data/training_v1.npy\",allow_pickle = True)\n",
    "test = np.load(\"data/evaluation_v1.npy\",allow_pickle = True)"
   ]
  },
  {
   "cell_type": "code",
   "execution_count": 12,
   "metadata": {},
   "outputs": [
    {
     "data": {
      "text/html": [
       "<div>\n",
       "<style scoped>\n",
       "    .dataframe tbody tr th:only-of-type {\n",
       "        vertical-align: middle;\n",
       "    }\n",
       "\n",
       "    .dataframe tbody tr th {\n",
       "        vertical-align: top;\n",
       "    }\n",
       "\n",
       "    .dataframe thead th {\n",
       "        text-align: right;\n",
       "    }\n",
       "</style>\n",
       "<table border=\"1\" class=\"dataframe\">\n",
       "  <thead>\n",
       "    <tr style=\"text-align: right;\">\n",
       "      <th></th>\n",
       "      <th>id</th>\n",
       "      <th>timestamp</th>\n",
       "      <th>user_verified</th>\n",
       "      <th>user_statuses_count</th>\n",
       "      <th>user_followers_count</th>\n",
       "      <th>user_friends_count</th>\n",
       "      <th>user_mentions</th>\n",
       "      <th>urls</th>\n",
       "      <th>hashtags</th>\n",
       "      <th>text</th>\n",
       "      <th>sentiment</th>\n",
       "    </tr>\n",
       "  </thead>\n",
       "  <tbody>\n",
       "    <tr>\n",
       "      <th>0</th>\n",
       "      <td>665776</td>\n",
       "      <td>1588644489777</td>\n",
       "      <td>False</td>\n",
       "      <td>229</td>\n",
       "      <td>36</td>\n",
       "      <td>99</td>\n",
       "      <td>NaN</td>\n",
       "      <td>NaN</td>\n",
       "      <td>NaN</td>\n",
       "      <td>Coronavirus, no spring break, Chris Brown fan ...</td>\n",
       "      <td>0</td>\n",
       "    </tr>\n",
       "    <tr>\n",
       "      <th>1</th>\n",
       "      <td>665777</td>\n",
       "      <td>1588463988413</td>\n",
       "      <td>True</td>\n",
       "      <td>106991</td>\n",
       "      <td>41273</td>\n",
       "      <td>326</td>\n",
       "      <td>NaN</td>\n",
       "      <td>NaN</td>\n",
       "      <td>NaN</td>\n",
       "      <td>This fits the data.</td>\n",
       "      <td>1</td>\n",
       "    </tr>\n",
       "    <tr>\n",
       "      <th>2</th>\n",
       "      <td>665778</td>\n",
       "      <td>1588563932106</td>\n",
       "      <td>False</td>\n",
       "      <td>24127</td>\n",
       "      <td>345</td>\n",
       "      <td>200</td>\n",
       "      <td>NaN</td>\n",
       "      <td>NaN</td>\n",
       "      <td>NaN</td>\n",
       "      <td>Y’all talk about the Coronavirus like y’all be...</td>\n",
       "      <td>2</td>\n",
       "    </tr>\n",
       "    <tr>\n",
       "      <th>3</th>\n",
       "      <td>665779</td>\n",
       "      <td>1588639210045</td>\n",
       "      <td>True</td>\n",
       "      <td>771</td>\n",
       "      <td>6555</td>\n",
       "      <td>83</td>\n",
       "      <td>NaN</td>\n",
       "      <td>twitter.com/i/web/status/1…</td>\n",
       "      <td>NaN</td>\n",
       "      <td>As this coronavirus and covid-19 go on, the fo...</td>\n",
       "      <td>3</td>\n",
       "    </tr>\n",
       "    <tr>\n",
       "      <th>4</th>\n",
       "      <td>665780</td>\n",
       "      <td>1588692867357</td>\n",
       "      <td>False</td>\n",
       "      <td>32595</td>\n",
       "      <td>6490</td>\n",
       "      <td>1206</td>\n",
       "      <td>NaN</td>\n",
       "      <td>vice.com/en_us/article/…</td>\n",
       "      <td>NaN</td>\n",
       "      <td>Big Brother is not very good at watching you. ...</td>\n",
       "      <td>4</td>\n",
       "    </tr>\n",
       "    <tr>\n",
       "      <th>...</th>\n",
       "      <td>...</td>\n",
       "      <td>...</td>\n",
       "      <td>...</td>\n",
       "      <td>...</td>\n",
       "      <td>...</td>\n",
       "      <td>...</td>\n",
       "      <td>...</td>\n",
       "      <td>...</td>\n",
       "      <td>...</td>\n",
       "      <td>...</td>\n",
       "      <td>...</td>\n",
       "    </tr>\n",
       "    <tr>\n",
       "      <th>285329</th>\n",
       "      <td>951105</td>\n",
       "      <td>1588673869339</td>\n",
       "      <td>True</td>\n",
       "      <td>10532</td>\n",
       "      <td>6506208</td>\n",
       "      <td>119</td>\n",
       "      <td>NaN</td>\n",
       "      <td>twitter.com/i/web/status/1…</td>\n",
       "      <td>IndianArmy, HarKaamDeshKeNaam, Soldier</td>\n",
       "      <td>#IndianArmy fights COVID-19\\n\\n#HarKaamDeshKeN...</td>\n",
       "      <td>285329</td>\n",
       "    </tr>\n",
       "    <tr>\n",
       "      <th>285330</th>\n",
       "      <td>951106</td>\n",
       "      <td>1588296137844</td>\n",
       "      <td>False</td>\n",
       "      <td>151</td>\n",
       "      <td>105</td>\n",
       "      <td>100</td>\n",
       "      <td>NaN</td>\n",
       "      <td>twitter.com/i/web/status/1…</td>\n",
       "      <td>NaN</td>\n",
       "      <td>(04/22/2020) “CUT-THE-RONA” \\n\\nWe would like ...</td>\n",
       "      <td>285330</td>\n",
       "    </tr>\n",
       "    <tr>\n",
       "      <th>285331</th>\n",
       "      <td>951107</td>\n",
       "      <td>1588550324249</td>\n",
       "      <td>False</td>\n",
       "      <td>381</td>\n",
       "      <td>77</td>\n",
       "      <td>210</td>\n",
       "      <td>NaN</td>\n",
       "      <td>NaN</td>\n",
       "      <td>NaN</td>\n",
       "      <td>It's just starting.</td>\n",
       "      <td>285331</td>\n",
       "    </tr>\n",
       "    <tr>\n",
       "      <th>285332</th>\n",
       "      <td>951108</td>\n",
       "      <td>1588656171612</td>\n",
       "      <td>True</td>\n",
       "      <td>33982</td>\n",
       "      <td>974249</td>\n",
       "      <td>340</td>\n",
       "      <td>NaN</td>\n",
       "      <td>NaN</td>\n",
       "      <td>NaN</td>\n",
       "      <td>It is in no way a surprise that one of the fou...</td>\n",
       "      <td>285332</td>\n",
       "    </tr>\n",
       "    <tr>\n",
       "      <th>285333</th>\n",
       "      <td>951109</td>\n",
       "      <td>1588577717251</td>\n",
       "      <td>True</td>\n",
       "      <td>87981</td>\n",
       "      <td>1106541</td>\n",
       "      <td>381</td>\n",
       "      <td>NaN</td>\n",
       "      <td>twitter.com/spectatorindex…</td>\n",
       "      <td>NaN</td>\n",
       "      <td>Very impressive https://t.co/xVAdPYh8IT</td>\n",
       "      <td>285333</td>\n",
       "    </tr>\n",
       "  </tbody>\n",
       "</table>\n",
       "<p>285334 rows × 11 columns</p>\n",
       "</div>"
      ],
      "text/plain": [
       "            id      timestamp user_verified user_statuses_count  \\\n",
       "0       665776  1588644489777         False                 229   \n",
       "1       665777  1588463988413          True              106991   \n",
       "2       665778  1588563932106         False               24127   \n",
       "3       665779  1588639210045          True                 771   \n",
       "4       665780  1588692867357         False               32595   \n",
       "...        ...            ...           ...                 ...   \n",
       "285329  951105  1588673869339          True               10532   \n",
       "285330  951106  1588296137844         False                 151   \n",
       "285331  951107  1588550324249         False                 381   \n",
       "285332  951108  1588656171612          True               33982   \n",
       "285333  951109  1588577717251          True               87981   \n",
       "\n",
       "       user_followers_count user_friends_count user_mentions  \\\n",
       "0                        36                 99           NaN   \n",
       "1                     41273                326           NaN   \n",
       "2                       345                200           NaN   \n",
       "3                      6555                 83           NaN   \n",
       "4                      6490               1206           NaN   \n",
       "...                     ...                ...           ...   \n",
       "285329              6506208                119           NaN   \n",
       "285330                  105                100           NaN   \n",
       "285331                   77                210           NaN   \n",
       "285332               974249                340           NaN   \n",
       "285333              1106541                381           NaN   \n",
       "\n",
       "                               urls                                hashtags  \\\n",
       "0                               NaN                                     NaN   \n",
       "1                               NaN                                     NaN   \n",
       "2                               NaN                                     NaN   \n",
       "3       twitter.com/i/web/status/1…                                     NaN   \n",
       "4          vice.com/en_us/article/…                                     NaN   \n",
       "...                             ...                                     ...   \n",
       "285329  twitter.com/i/web/status/1…  IndianArmy, HarKaamDeshKeNaam, Soldier   \n",
       "285330  twitter.com/i/web/status/1…                                     NaN   \n",
       "285331                          NaN                                     NaN   \n",
       "285332                          NaN                                     NaN   \n",
       "285333  twitter.com/spectatorindex…                                     NaN   \n",
       "\n",
       "                                                     text sentiment  \n",
       "0       Coronavirus, no spring break, Chris Brown fan ...         0  \n",
       "1                                     This fits the data.         1  \n",
       "2       Y’all talk about the Coronavirus like y’all be...         2  \n",
       "3       As this coronavirus and covid-19 go on, the fo...         3  \n",
       "4       Big Brother is not very good at watching you. ...         4  \n",
       "...                                                   ...       ...  \n",
       "285329  #IndianArmy fights COVID-19\\n\\n#HarKaamDeshKeN...    285329  \n",
       "285330  (04/22/2020) “CUT-THE-RONA” \\n\\nWe would like ...    285330  \n",
       "285331                                It's just starting.    285331  \n",
       "285332  It is in no way a surprise that one of the fou...    285332  \n",
       "285333            Very impressive https://t.co/xVAdPYh8IT    285333  \n",
       "\n",
       "[285334 rows x 11 columns]"
      ]
     },
     "execution_count": 12,
     "metadata": {},
     "output_type": "execute_result"
    }
   ],
   "source": [
    "data_eval = pd.DataFrame(test,columns = ['id','timestamp','retweet_count','user_verified','user_statuses_count','user_followers_count','user_friends_count','user_mentions','urls','hashtags','text','sentiment'])\n",
    "data = pd.DataFrame(train,columns = ['id','timestamp','user_verified','user_statuses_count','user_followers_count','user_friends_count','user_mentions','urls','hashtags','text','sentiment'])\n",
    "nlp = spacy.load('en_core_web_sm')"
   ]
  },
  {
   "cell_type": "markdown",
   "metadata": {},
   "source": [
    "## Verifier user\n",
    "\n",
    "Boolean to 0 or 1"
   ]
  },
  {
   "cell_type": "code",
   "execution_count": 3,
   "metadata": {},
   "outputs": [],
   "source": [
    "#replace the boolean by its int value\n",
    "df=pd.DataFrame(data_eval[\"user_verified\"])\n",
    "data_eval[\"user_verified\"]=df.applymap(lambda x: int(x))\n",
    "\n",
    "df=pd.DataFrame(data[\"user_verified\"])\n",
    "data[\"user_verified\"]=df.applymap(lambda x: int(x))"
   ]
  },
  {
   "cell_type": "markdown",
   "metadata": {},
   "source": [
    "## Tweet with # and number of #"
   ]
  },
  {
   "cell_type": "code",
   "execution_count": 4,
   "metadata": {},
   "outputs": [],
   "source": [
    "def get_hashtag(x) :\n",
    "    x = str(x) \n",
    "    if \"#\" in x :\n",
    "        return 1\n",
    "    return 0\n",
    "\n",
    "def get_number_hashtag(x) :\n",
    "    x = str(x)\n",
    "    count = 0\n",
    "    for k in x :\n",
    "        if k == \"#\" :\n",
    "            count+=1\n",
    "    return count\n",
    "\n",
    "df=pd.DataFrame(data[\"text\"])\n",
    "data[\"num_hashtag\"] = df.applymap(lambda x: get_number_hashtag(x))\n",
    "data[\"got_hashtag\"] = df.applymap(lambda x: get_hashtag(x))\n",
    "\n",
    "df=pd.DataFrame(data_eval[\"text\"])\n",
    "data_eval[\"num_hashtag\"] = df.applymap(lambda x: get_number_hashtag(x))\n",
    "data_eval[\"got_hashtag\"] = df.applymap(lambda x: get_hashtag(x))"
   ]
  },
  {
   "cell_type": "markdown",
   "metadata": {},
   "source": [
    "## Tweet with @ and number of"
   ]
  },
  {
   "cell_type": "code",
   "execution_count": 5,
   "metadata": {},
   "outputs": [],
   "source": [
    "def get_at(x) :\n",
    "    x = str(x) \n",
    "    if \"@\" in x :\n",
    "        return 1\n",
    "    return 0\n",
    "\n",
    "def get_number_at(x) :\n",
    "    x = str(x)\n",
    "    count = 0\n",
    "    for k in x :\n",
    "        if k == \"@\" :\n",
    "            count+=1\n",
    "    return count\n",
    "\n",
    "df=pd.DataFrame(data[\"text\"])\n",
    "data[\"num_at\"] = df.applymap(lambda x: get_number_at(x))\n",
    "data[\"got_at\"] = df.applymap(lambda x: get_at(x))\n",
    "\n",
    "df=pd.DataFrame(data_eval[\"text\"])\n",
    "data_eval[\"num_at\"] = df.applymap(lambda x: get_number_at(x))\n",
    "data_eval[\"got_at\"] = df.applymap(lambda x: get_at(x))"
   ]
  },
  {
   "cell_type": "markdown",
   "metadata": {},
   "source": [
    "## Tweet with links and number of"
   ]
  },
  {
   "cell_type": "code",
   "execution_count": 6,
   "metadata": {},
   "outputs": [],
   "source": [
    "def get_link(x) :\n",
    "    x = str(x) \n",
    "    if \"https\" in x :\n",
    "        return 1\n",
    "    return 0\n",
    "\n",
    "def get_number_link(x) :\n",
    "    x = str(x)\n",
    "    count = x.count(\"https\")\n",
    "    return count\n",
    "\n",
    "df=pd.DataFrame(data[\"text\"])\n",
    "data[\"num_link\"] = df.applymap(lambda x: get_number_link(x))\n",
    "data[\"got_link\"] = df.applymap(lambda x: get_link(x))\n",
    "\n",
    "df=pd.DataFrame(data_eval[\"text\"])\n",
    "data_eval[\"num_link\"] = df.applymap(lambda x: get_number_link(x))\n",
    "data_eval[\"got_link\"] = df.applymap(lambda x: get_link(x))"
   ]
  },
  {
   "cell_type": "markdown",
   "metadata": {},
   "source": [
    "## Tweet length"
   ]
  },
  {
   "cell_type": "code",
   "execution_count": 7,
   "metadata": {},
   "outputs": [],
   "source": [
    "def get_lenght(x) :\n",
    "    return len(str(x))\n",
    "\n",
    "df=pd.DataFrame(data[\"text\"])\n",
    "data[\"length\"] = df.applymap(lambda x: get_lenght(x))\n",
    "\n",
    "df=pd.DataFrame(data_eval[\"text\"])\n",
    "data_eval[\"length\"] = df.applymap(lambda x: get_lenght(x))"
   ]
  },
  {
   "cell_type": "markdown",
   "metadata": {},
   "source": [
    "## Contains RT or similar"
   ]
  },
  {
   "cell_type": "code",
   "execution_count": 8,
   "metadata": {},
   "outputs": [],
   "source": [
    "def contains_RT(x) :\n",
    "    liste = [\"rt\",\"retweet\"]\n",
    "    x = str(x).lower()\n",
    "    for k in liste :\n",
    "        if k in x :\n",
    "            return 1\n",
    "    return 0\n",
    "\n",
    "df=pd.DataFrame(data[\"text\"])\n",
    "data[\"contains_rt\"] = df.applymap(lambda x: contains_RT(x))\n",
    "\n",
    "df=pd.DataFrame(data_eval[\"text\"])\n",
    "data_eval[\"contains_rt\"] = df.applymap(lambda x: contains_RT(x))"
   ]
  },
  {
   "cell_type": "markdown",
   "metadata": {},
   "source": [
    "## Followers, friends and status count\n",
    "\n",
    "Average and center these data."
   ]
  },
  {
   "cell_type": "code",
   "execution_count": 9,
   "metadata": {},
   "outputs": [],
   "source": [
    "cols=[\"user_statuses_count\",\"user_followers_count\",\"user_friends_count\",\"length\"]\n",
    "for c in cols:\n",
    "    df=pd.DataFrame(data[c])\n",
    "    m=data[c].mean()\n",
    "    v=math.sqrt(data[c].var())\n",
    "    data[c]=df.applymap(lambda x: (x-m)/v)\n",
    "    \n",
    "    # the same mean and sigma\n",
    "    df=pd.DataFrame(data_eval[c])\n",
    "    data_eval[c]=df.applymap(lambda x: (x-m)/v)"
   ]
  },
  {
   "cell_type": "markdown",
   "metadata": {},
   "source": [
    "## Posted at different times"
   ]
  },
  {
   "cell_type": "code",
   "execution_count": 10,
   "metadata": {},
   "outputs": [],
   "source": [
    "def weak(timestamp) :\n",
    "    if int(time.ctime(int(str(timestamp)[:-3]))[11:13]) in [7,8,9,10,11,12] :\n",
    "        return 1\n",
    "    return 0\n",
    "\n",
    "def strong(timestamp) :\n",
    "    if int(time.ctime(int(str(timestamp)[:-3]))[11:13]) in [0,1] :\n",
    "        return 1\n",
    "    return 0\n",
    "\n",
    "def zeros_pic(timestamp) :\n",
    "    if int(time.ctime(int(str(timestamp)[:-3]))[11:13]) in [17,18,19,20,21,22,23] :\n",
    "        return 1\n",
    "    return 0\n",
    "\n",
    "df=pd.DataFrame(data[\"timestamp\"])\n",
    "data[\"weak\"] = df.applymap(lambda x: weak(x))\n",
    "data[\"strong\"] = df.applymap(lambda x: strong(x))\n",
    "data[\"zeros_pic\"] = df.applymap(lambda x: zeros_pic(x))\n",
    "\n",
    "df=pd.DataFrame(data_eval[\"timestamp\"])\n",
    "data_eval[\"weak\"] = df.applymap(lambda x: weak(x))\n",
    "data_eval[\"strong\"] = df.applymap(lambda x: strong(x))\n",
    "data_eval[\"zeros_pic\"] = df.applymap(lambda x: zeros_pic(x))"
   ]
  },
  {
   "cell_type": "markdown",
   "metadata": {},
   "source": [
    "## Some words are upper"
   ]
  },
  {
   "cell_type": "code",
   "execution_count": 11,
   "metadata": {},
   "outputs": [],
   "source": [
    "def is_upper(x) :\n",
    "    x = str(x)\n",
    "    x = x.split(\" \")\n",
    "    for k in x :\n",
    "        if k.isupper() :\n",
    "            return 1\n",
    "    return 0\n",
    "\n",
    "df=pd.DataFrame(data[\"text\"])\n",
    "data[\"is_upper\"] = df.applymap(lambda x: is_upper(x))\n",
    "\n",
    "df=pd.DataFrame(data_eval[\"text\"])\n",
    "data_eval[\"is_upper\"] = df.applymap(lambda x: is_upper(x))"
   ]
  },
  {
   "cell_type": "markdown",
   "metadata": {},
   "source": [
    "## Contains ! "
   ]
  },
  {
   "cell_type": "code",
   "execution_count": 12,
   "metadata": {},
   "outputs": [],
   "source": [
    "def contains_excl(x) :\n",
    "    if \"!\" in str(x) :\n",
    "        return 1\n",
    "    return 0\n",
    "\n",
    "df=pd.DataFrame(data[\"text\"])\n",
    "data[\"contains_excl\"] = df.applymap(lambda x: contains_excl(x))\n",
    "\n",
    "df=pd.DataFrame(data_eval[\"text\"])\n",
    "data_eval[\"contains_excl\"] = df.applymap(lambda x: contains_excl(x))"
   ]
  },
  {
   "cell_type": "markdown",
   "metadata": {},
   "source": [
    "## Contains organisation or location or person"
   ]
  },
  {
   "cell_type": "code",
   "execution_count": 61,
   "metadata": {
    "scrolled": true
   },
   "outputs": [
    {
     "name": "stdout",
     "output_type": "stream",
     "text": [
      "0\n"
     ]
    },
    {
     "ename": "KeyboardInterrupt",
     "evalue": "",
     "output_type": "error",
     "traceback": [
      "\u001b[1;31m---------------------------------------------------------------------------\u001b[0m",
      "\u001b[1;31mKeyboardInterrupt\u001b[0m                         Traceback (most recent call last)",
      "\u001b[1;32m<ipython-input-61-0d0a16d38e0b>\u001b[0m in \u001b[0;36m<module>\u001b[1;34m\u001b[0m\n\u001b[0;32m     19\u001b[0m \u001b[1;33m\u001b[0m\u001b[0m\n\u001b[0;32m     20\u001b[0m \u001b[0mdf\u001b[0m\u001b[1;33m=\u001b[0m\u001b[0mpd\u001b[0m\u001b[1;33m.\u001b[0m\u001b[0mDataFrame\u001b[0m\u001b[1;33m(\u001b[0m\u001b[0mdata\u001b[0m\u001b[1;33m[\u001b[0m\u001b[1;34m\"text\"\u001b[0m\u001b[1;33m]\u001b[0m\u001b[1;33m)\u001b[0m\u001b[1;33m\u001b[0m\u001b[1;33m\u001b[0m\u001b[0m\n\u001b[1;32m---> 21\u001b[1;33m \u001b[0mdata\u001b[0m\u001b[1;33m[\u001b[0m\u001b[1;34m\"contains_per_org_loc\"\u001b[0m\u001b[1;33m]\u001b[0m \u001b[1;33m=\u001b[0m \u001b[0mdf\u001b[0m\u001b[1;33m.\u001b[0m\u001b[0mapplymap\u001b[0m\u001b[1;33m(\u001b[0m\u001b[1;32mlambda\u001b[0m \u001b[0mx\u001b[0m\u001b[1;33m:\u001b[0m \u001b[0mcontains_per_org_loc\u001b[0m\u001b[1;33m(\u001b[0m\u001b[0mx\u001b[0m\u001b[1;33m)\u001b[0m\u001b[1;33m)\u001b[0m\u001b[1;33m\u001b[0m\u001b[1;33m\u001b[0m\u001b[0m\n\u001b[0m\u001b[0;32m     22\u001b[0m \u001b[1;33m\u001b[0m\u001b[0m\n\u001b[0;32m     23\u001b[0m \u001b[0mdf\u001b[0m\u001b[1;33m=\u001b[0m\u001b[0mpd\u001b[0m\u001b[1;33m.\u001b[0m\u001b[0mDataFrame\u001b[0m\u001b[1;33m(\u001b[0m\u001b[0mdata_eval\u001b[0m\u001b[1;33m[\u001b[0m\u001b[1;34m\"text\"\u001b[0m\u001b[1;33m]\u001b[0m\u001b[1;33m)\u001b[0m\u001b[1;33m\u001b[0m\u001b[1;33m\u001b[0m\u001b[0m\n",
      "\u001b[1;32m~\\anaconda3\\envs\\inf573\\lib\\site-packages\\pandas\\core\\frame.py\u001b[0m in \u001b[0;36mapplymap\u001b[1;34m(self, func)\u001b[0m\n\u001b[0;32m   7607\u001b[0m             \u001b[1;32mreturn\u001b[0m \u001b[0mlib\u001b[0m\u001b[1;33m.\u001b[0m\u001b[0mmap_infer\u001b[0m\u001b[1;33m(\u001b[0m\u001b[0mx\u001b[0m\u001b[1;33m.\u001b[0m\u001b[0mastype\u001b[0m\u001b[1;33m(\u001b[0m\u001b[0mobject\u001b[0m\u001b[1;33m)\u001b[0m\u001b[1;33m.\u001b[0m\u001b[0m_values\u001b[0m\u001b[1;33m,\u001b[0m \u001b[0mfunc\u001b[0m\u001b[1;33m)\u001b[0m\u001b[1;33m\u001b[0m\u001b[1;33m\u001b[0m\u001b[0m\n\u001b[0;32m   7608\u001b[0m \u001b[1;33m\u001b[0m\u001b[0m\n\u001b[1;32m-> 7609\u001b[1;33m         \u001b[1;32mreturn\u001b[0m \u001b[0mself\u001b[0m\u001b[1;33m.\u001b[0m\u001b[0mapply\u001b[0m\u001b[1;33m(\u001b[0m\u001b[0minfer\u001b[0m\u001b[1;33m)\u001b[0m\u001b[1;33m\u001b[0m\u001b[1;33m\u001b[0m\u001b[0m\n\u001b[0m\u001b[0;32m   7610\u001b[0m \u001b[1;33m\u001b[0m\u001b[0m\n\u001b[0;32m   7611\u001b[0m     \u001b[1;31m# ----------------------------------------------------------------------\u001b[0m\u001b[1;33m\u001b[0m\u001b[1;33m\u001b[0m\u001b[1;33m\u001b[0m\u001b[0m\n",
      "\u001b[1;32m~\\anaconda3\\envs\\inf573\\lib\\site-packages\\pandas\\core\\frame.py\u001b[0m in \u001b[0;36mapply\u001b[1;34m(self, func, axis, raw, result_type, args, **kwds)\u001b[0m\n\u001b[0;32m   7550\u001b[0m             \u001b[0mkwds\u001b[0m\u001b[1;33m=\u001b[0m\u001b[0mkwds\u001b[0m\u001b[1;33m,\u001b[0m\u001b[1;33m\u001b[0m\u001b[1;33m\u001b[0m\u001b[0m\n\u001b[0;32m   7551\u001b[0m         )\n\u001b[1;32m-> 7552\u001b[1;33m         \u001b[1;32mreturn\u001b[0m \u001b[0mop\u001b[0m\u001b[1;33m.\u001b[0m\u001b[0mget_result\u001b[0m\u001b[1;33m(\u001b[0m\u001b[1;33m)\u001b[0m\u001b[1;33m\u001b[0m\u001b[1;33m\u001b[0m\u001b[0m\n\u001b[0m\u001b[0;32m   7553\u001b[0m \u001b[1;33m\u001b[0m\u001b[0m\n\u001b[0;32m   7554\u001b[0m     \u001b[1;32mdef\u001b[0m \u001b[0mapplymap\u001b[0m\u001b[1;33m(\u001b[0m\u001b[0mself\u001b[0m\u001b[1;33m,\u001b[0m \u001b[0mfunc\u001b[0m\u001b[1;33m)\u001b[0m \u001b[1;33m->\u001b[0m \u001b[1;34m\"DataFrame\"\u001b[0m\u001b[1;33m:\u001b[0m\u001b[1;33m\u001b[0m\u001b[1;33m\u001b[0m\u001b[0m\n",
      "\u001b[1;32m~\\anaconda3\\envs\\inf573\\lib\\site-packages\\pandas\\core\\apply.py\u001b[0m in \u001b[0;36mget_result\u001b[1;34m(self)\u001b[0m\n\u001b[0;32m    178\u001b[0m             \u001b[1;32mreturn\u001b[0m \u001b[0mself\u001b[0m\u001b[1;33m.\u001b[0m\u001b[0mapply_raw\u001b[0m\u001b[1;33m(\u001b[0m\u001b[1;33m)\u001b[0m\u001b[1;33m\u001b[0m\u001b[1;33m\u001b[0m\u001b[0m\n\u001b[0;32m    179\u001b[0m \u001b[1;33m\u001b[0m\u001b[0m\n\u001b[1;32m--> 180\u001b[1;33m         \u001b[1;32mreturn\u001b[0m \u001b[0mself\u001b[0m\u001b[1;33m.\u001b[0m\u001b[0mapply_standard\u001b[0m\u001b[1;33m(\u001b[0m\u001b[1;33m)\u001b[0m\u001b[1;33m\u001b[0m\u001b[1;33m\u001b[0m\u001b[0m\n\u001b[0m\u001b[0;32m    181\u001b[0m \u001b[1;33m\u001b[0m\u001b[0m\n\u001b[0;32m    182\u001b[0m     \u001b[1;32mdef\u001b[0m \u001b[0mapply_empty_result\u001b[0m\u001b[1;33m(\u001b[0m\u001b[0mself\u001b[0m\u001b[1;33m)\u001b[0m\u001b[1;33m:\u001b[0m\u001b[1;33m\u001b[0m\u001b[1;33m\u001b[0m\u001b[0m\n",
      "\u001b[1;32m~\\anaconda3\\envs\\inf573\\lib\\site-packages\\pandas\\core\\apply.py\u001b[0m in \u001b[0;36mapply_standard\u001b[1;34m(self)\u001b[0m\n\u001b[0;32m    269\u001b[0m \u001b[1;33m\u001b[0m\u001b[0m\n\u001b[0;32m    270\u001b[0m     \u001b[1;32mdef\u001b[0m \u001b[0mapply_standard\u001b[0m\u001b[1;33m(\u001b[0m\u001b[0mself\u001b[0m\u001b[1;33m)\u001b[0m\u001b[1;33m:\u001b[0m\u001b[1;33m\u001b[0m\u001b[1;33m\u001b[0m\u001b[0m\n\u001b[1;32m--> 271\u001b[1;33m         \u001b[0mresults\u001b[0m\u001b[1;33m,\u001b[0m \u001b[0mres_index\u001b[0m \u001b[1;33m=\u001b[0m \u001b[0mself\u001b[0m\u001b[1;33m.\u001b[0m\u001b[0mapply_series_generator\u001b[0m\u001b[1;33m(\u001b[0m\u001b[1;33m)\u001b[0m\u001b[1;33m\u001b[0m\u001b[1;33m\u001b[0m\u001b[0m\n\u001b[0m\u001b[0;32m    272\u001b[0m \u001b[1;33m\u001b[0m\u001b[0m\n\u001b[0;32m    273\u001b[0m         \u001b[1;31m# wrap results\u001b[0m\u001b[1;33m\u001b[0m\u001b[1;33m\u001b[0m\u001b[1;33m\u001b[0m\u001b[0m\n",
      "\u001b[1;32m~\\anaconda3\\envs\\inf573\\lib\\site-packages\\pandas\\core\\apply.py\u001b[0m in \u001b[0;36mapply_series_generator\u001b[1;34m(self)\u001b[0m\n\u001b[0;32m    298\u001b[0m                 \u001b[1;32mfor\u001b[0m \u001b[0mi\u001b[0m\u001b[1;33m,\u001b[0m \u001b[0mv\u001b[0m \u001b[1;32min\u001b[0m \u001b[0menumerate\u001b[0m\u001b[1;33m(\u001b[0m\u001b[0mseries_gen\u001b[0m\u001b[1;33m)\u001b[0m\u001b[1;33m:\u001b[0m\u001b[1;33m\u001b[0m\u001b[1;33m\u001b[0m\u001b[0m\n\u001b[0;32m    299\u001b[0m                     \u001b[1;31m# ignore SettingWithCopy here in case the user mutates\u001b[0m\u001b[1;33m\u001b[0m\u001b[1;33m\u001b[0m\u001b[1;33m\u001b[0m\u001b[0m\n\u001b[1;32m--> 300\u001b[1;33m                     \u001b[0mresults\u001b[0m\u001b[1;33m[\u001b[0m\u001b[0mi\u001b[0m\u001b[1;33m]\u001b[0m \u001b[1;33m=\u001b[0m \u001b[0mself\u001b[0m\u001b[1;33m.\u001b[0m\u001b[0mf\u001b[0m\u001b[1;33m(\u001b[0m\u001b[0mv\u001b[0m\u001b[1;33m)\u001b[0m\u001b[1;33m\u001b[0m\u001b[1;33m\u001b[0m\u001b[0m\n\u001b[0m\u001b[0;32m    301\u001b[0m                     \u001b[1;32mif\u001b[0m \u001b[0misinstance\u001b[0m\u001b[1;33m(\u001b[0m\u001b[0mresults\u001b[0m\u001b[1;33m[\u001b[0m\u001b[0mi\u001b[0m\u001b[1;33m]\u001b[0m\u001b[1;33m,\u001b[0m \u001b[0mABCSeries\u001b[0m\u001b[1;33m)\u001b[0m\u001b[1;33m:\u001b[0m\u001b[1;33m\u001b[0m\u001b[1;33m\u001b[0m\u001b[0m\n\u001b[0;32m    302\u001b[0m                         \u001b[1;31m# If we have a view on v, we need to make a copy because\u001b[0m\u001b[1;33m\u001b[0m\u001b[1;33m\u001b[0m\u001b[1;33m\u001b[0m\u001b[0m\n",
      "\u001b[1;32m~\\anaconda3\\envs\\inf573\\lib\\site-packages\\pandas\\core\\frame.py\u001b[0m in \u001b[0;36minfer\u001b[1;34m(x)\u001b[0m\n\u001b[0;32m   7605\u001b[0m             \u001b[1;32mif\u001b[0m \u001b[0mx\u001b[0m\u001b[1;33m.\u001b[0m\u001b[0mempty\u001b[0m\u001b[1;33m:\u001b[0m\u001b[1;33m\u001b[0m\u001b[1;33m\u001b[0m\u001b[0m\n\u001b[0;32m   7606\u001b[0m                 \u001b[1;32mreturn\u001b[0m \u001b[0mlib\u001b[0m\u001b[1;33m.\u001b[0m\u001b[0mmap_infer\u001b[0m\u001b[1;33m(\u001b[0m\u001b[0mx\u001b[0m\u001b[1;33m,\u001b[0m \u001b[0mfunc\u001b[0m\u001b[1;33m)\u001b[0m\u001b[1;33m\u001b[0m\u001b[1;33m\u001b[0m\u001b[0m\n\u001b[1;32m-> 7607\u001b[1;33m             \u001b[1;32mreturn\u001b[0m \u001b[0mlib\u001b[0m\u001b[1;33m.\u001b[0m\u001b[0mmap_infer\u001b[0m\u001b[1;33m(\u001b[0m\u001b[0mx\u001b[0m\u001b[1;33m.\u001b[0m\u001b[0mastype\u001b[0m\u001b[1;33m(\u001b[0m\u001b[0mobject\u001b[0m\u001b[1;33m)\u001b[0m\u001b[1;33m.\u001b[0m\u001b[0m_values\u001b[0m\u001b[1;33m,\u001b[0m \u001b[0mfunc\u001b[0m\u001b[1;33m)\u001b[0m\u001b[1;33m\u001b[0m\u001b[1;33m\u001b[0m\u001b[0m\n\u001b[0m\u001b[0;32m   7608\u001b[0m \u001b[1;33m\u001b[0m\u001b[0m\n\u001b[0;32m   7609\u001b[0m         \u001b[1;32mreturn\u001b[0m \u001b[0mself\u001b[0m\u001b[1;33m.\u001b[0m\u001b[0mapply\u001b[0m\u001b[1;33m(\u001b[0m\u001b[0minfer\u001b[0m\u001b[1;33m)\u001b[0m\u001b[1;33m\u001b[0m\u001b[1;33m\u001b[0m\u001b[0m\n",
      "\u001b[1;32mpandas\\_libs\\lib.pyx\u001b[0m in \u001b[0;36mpandas._libs.lib.map_infer\u001b[1;34m()\u001b[0m\n",
      "\u001b[1;32m<ipython-input-61-0d0a16d38e0b>\u001b[0m in \u001b[0;36m<lambda>\u001b[1;34m(x)\u001b[0m\n\u001b[0;32m     19\u001b[0m \u001b[1;33m\u001b[0m\u001b[0m\n\u001b[0;32m     20\u001b[0m \u001b[0mdf\u001b[0m\u001b[1;33m=\u001b[0m\u001b[0mpd\u001b[0m\u001b[1;33m.\u001b[0m\u001b[0mDataFrame\u001b[0m\u001b[1;33m(\u001b[0m\u001b[0mdata\u001b[0m\u001b[1;33m[\u001b[0m\u001b[1;34m\"text\"\u001b[0m\u001b[1;33m]\u001b[0m\u001b[1;33m)\u001b[0m\u001b[1;33m\u001b[0m\u001b[1;33m\u001b[0m\u001b[0m\n\u001b[1;32m---> 21\u001b[1;33m \u001b[0mdata\u001b[0m\u001b[1;33m[\u001b[0m\u001b[1;34m\"contains_per_org_loc\"\u001b[0m\u001b[1;33m]\u001b[0m \u001b[1;33m=\u001b[0m \u001b[0mdf\u001b[0m\u001b[1;33m.\u001b[0m\u001b[0mapplymap\u001b[0m\u001b[1;33m(\u001b[0m\u001b[1;32mlambda\u001b[0m \u001b[0mx\u001b[0m\u001b[1;33m:\u001b[0m \u001b[0mcontains_per_org_loc\u001b[0m\u001b[1;33m(\u001b[0m\u001b[0mx\u001b[0m\u001b[1;33m)\u001b[0m\u001b[1;33m)\u001b[0m\u001b[1;33m\u001b[0m\u001b[1;33m\u001b[0m\u001b[0m\n\u001b[0m\u001b[0;32m     22\u001b[0m \u001b[1;33m\u001b[0m\u001b[0m\n\u001b[0;32m     23\u001b[0m \u001b[0mdf\u001b[0m\u001b[1;33m=\u001b[0m\u001b[0mpd\u001b[0m\u001b[1;33m.\u001b[0m\u001b[0mDataFrame\u001b[0m\u001b[1;33m(\u001b[0m\u001b[0mdata_eval\u001b[0m\u001b[1;33m[\u001b[0m\u001b[1;34m\"text\"\u001b[0m\u001b[1;33m]\u001b[0m\u001b[1;33m)\u001b[0m\u001b[1;33m\u001b[0m\u001b[1;33m\u001b[0m\u001b[0m\n",
      "\u001b[1;32m<ipython-input-61-0d0a16d38e0b>\u001b[0m in \u001b[0;36mcontains_per_org_loc\u001b[1;34m(x)\u001b[0m\n\u001b[0;32m      1\u001b[0m \u001b[0mpassage\u001b[0m \u001b[1;33m=\u001b[0m \u001b[1;33m[\u001b[0m\u001b[1;33m-\u001b[0m\u001b[1;36m1\u001b[0m\u001b[1;33m]\u001b[0m\u001b[1;33m\u001b[0m\u001b[1;33m\u001b[0m\u001b[0m\n\u001b[0;32m      2\u001b[0m \u001b[1;32mdef\u001b[0m \u001b[0mcontains_per_org_loc\u001b[0m\u001b[1;33m(\u001b[0m\u001b[0mx\u001b[0m\u001b[1;33m)\u001b[0m\u001b[1;33m:\u001b[0m\u001b[1;33m\u001b[0m\u001b[1;33m\u001b[0m\u001b[0m\n\u001b[1;32m----> 3\u001b[1;33m     \u001b[0mx\u001b[0m \u001b[1;33m=\u001b[0m \u001b[0mnlp\u001b[0m\u001b[1;33m(\u001b[0m\u001b[0mx\u001b[0m\u001b[1;33m)\u001b[0m\u001b[1;33m\u001b[0m\u001b[1;33m\u001b[0m\u001b[0m\n\u001b[0m\u001b[0;32m      4\u001b[0m     \u001b[0mper\u001b[0m \u001b[1;33m=\u001b[0m \u001b[1;36m0\u001b[0m\u001b[1;33m\u001b[0m\u001b[1;33m\u001b[0m\u001b[0m\n\u001b[0;32m      5\u001b[0m     \u001b[0morg\u001b[0m \u001b[1;33m=\u001b[0m \u001b[1;36m0\u001b[0m\u001b[1;33m\u001b[0m\u001b[1;33m\u001b[0m\u001b[0m\n",
      "\u001b[1;32m~\\anaconda3\\envs\\inf573\\lib\\site-packages\\spacy\\language.py\u001b[0m in \u001b[0;36m__call__\u001b[1;34m(self, text, disable, component_cfg)\u001b[0m\n\u001b[0;32m    447\u001b[0m             \u001b[1;32mif\u001b[0m \u001b[1;32mnot\u001b[0m \u001b[0mhasattr\u001b[0m\u001b[1;33m(\u001b[0m\u001b[0mproc\u001b[0m\u001b[1;33m,\u001b[0m \u001b[1;34m\"__call__\"\u001b[0m\u001b[1;33m)\u001b[0m\u001b[1;33m:\u001b[0m\u001b[1;33m\u001b[0m\u001b[1;33m\u001b[0m\u001b[0m\n\u001b[0;32m    448\u001b[0m                 \u001b[1;32mraise\u001b[0m \u001b[0mValueError\u001b[0m\u001b[1;33m(\u001b[0m\u001b[0mErrors\u001b[0m\u001b[1;33m.\u001b[0m\u001b[0mE003\u001b[0m\u001b[1;33m.\u001b[0m\u001b[0mformat\u001b[0m\u001b[1;33m(\u001b[0m\u001b[0mcomponent\u001b[0m\u001b[1;33m=\u001b[0m\u001b[0mtype\u001b[0m\u001b[1;33m(\u001b[0m\u001b[0mproc\u001b[0m\u001b[1;33m)\u001b[0m\u001b[1;33m,\u001b[0m \u001b[0mname\u001b[0m\u001b[1;33m=\u001b[0m\u001b[0mname\u001b[0m\u001b[1;33m)\u001b[0m\u001b[1;33m)\u001b[0m\u001b[1;33m\u001b[0m\u001b[1;33m\u001b[0m\u001b[0m\n\u001b[1;32m--> 449\u001b[1;33m             \u001b[0mdoc\u001b[0m \u001b[1;33m=\u001b[0m \u001b[0mproc\u001b[0m\u001b[1;33m(\u001b[0m\u001b[0mdoc\u001b[0m\u001b[1;33m,\u001b[0m \u001b[1;33m**\u001b[0m\u001b[0mcomponent_cfg\u001b[0m\u001b[1;33m.\u001b[0m\u001b[0mget\u001b[0m\u001b[1;33m(\u001b[0m\u001b[0mname\u001b[0m\u001b[1;33m,\u001b[0m \u001b[1;33m{\u001b[0m\u001b[1;33m}\u001b[0m\u001b[1;33m)\u001b[0m\u001b[1;33m)\u001b[0m\u001b[1;33m\u001b[0m\u001b[1;33m\u001b[0m\u001b[0m\n\u001b[0m\u001b[0;32m    450\u001b[0m             \u001b[1;32mif\u001b[0m \u001b[0mdoc\u001b[0m \u001b[1;32mis\u001b[0m \u001b[1;32mNone\u001b[0m\u001b[1;33m:\u001b[0m\u001b[1;33m\u001b[0m\u001b[1;33m\u001b[0m\u001b[0m\n\u001b[0;32m    451\u001b[0m                 \u001b[1;32mraise\u001b[0m \u001b[0mValueError\u001b[0m\u001b[1;33m(\u001b[0m\u001b[0mErrors\u001b[0m\u001b[1;33m.\u001b[0m\u001b[0mE005\u001b[0m\u001b[1;33m.\u001b[0m\u001b[0mformat\u001b[0m\u001b[1;33m(\u001b[0m\u001b[0mname\u001b[0m\u001b[1;33m=\u001b[0m\u001b[0mname\u001b[0m\u001b[1;33m)\u001b[0m\u001b[1;33m)\u001b[0m\u001b[1;33m\u001b[0m\u001b[1;33m\u001b[0m\u001b[0m\n",
      "\u001b[1;31mKeyboardInterrupt\u001b[0m: "
     ]
    }
   ],
   "source": [
    "passage = [-1] \n",
    "def contains_per_org_loc(x):\n",
    "    x = nlp(x)\n",
    "    per = 0\n",
    "    org = 0\n",
    "    gpe = 0\n",
    "    passage[0] +=1\n",
    "    if passage[0]%10000 == 0 :\n",
    "        print(passage[0])\n",
    "    for k in x.ents :\n",
    "        if k.label_ == \"PERSON\" :\n",
    "            per = 1\n",
    "        if k.label_ == \"ORG\" :\n",
    "            org = 1\n",
    "        if k.label_ == \"GPE\" :\n",
    "            gpe = 1\n",
    "    return str(per) + \" \" + str(org) + \" \" + str(gpe)\n",
    "\n",
    "\n",
    "df=pd.DataFrame(data[\"text\"])\n",
    "data[\"contains_per_org_loc\"] = df.applymap(lambda x: contains_per_org_loc(x))\n",
    "\n",
    "df=pd.DataFrame(data_eval[\"text\"])\n",
    "data_eval[\"contains_per_org_loc\"] = df.applymap(lambda x: contains_per_org_loc(x))"
   ]
  },
  {
   "cell_type": "code",
   "execution_count": null,
   "metadata": {},
   "outputs": [],
   "source": [
    "def contains_per(x):\n",
    "    return str(x).split(\" \")[0]\n",
    "\n",
    "def contains_org(x):\n",
    "    return str(x).split(\" \")[1]\n",
    "\n",
    "def contains_gpe(x):\n",
    "    return str(x).split(\" \")[2]\n",
    "\n",
    "df=pd.DataFrame(data[\"contains_per_org_loc\"])\n",
    "data[\"contains_per\"] = df.applymap(lambda x: contains_per(x))\n",
    "data[\"contains_org\"] = df.applymap(lambda x: contains_org(x))\n",
    "data[\"contains_gpe\"] = df.applymap(lambda x: contains_gpe(x))\n",
    "\n",
    "df=pd.DataFrame(data_eval[\"contains_per_org_loc\"])\n",
    "data_eval[\"contains_per\"] = df.applymap(lambda x: contains_per(x))\n",
    "data_eval[\"contains_org\"] = df.applymap(lambda x: contains_org(x))\n",
    "data_eval[\"contains_gpe\"] = df.applymap(lambda x: contains_gpe(x))"
   ]
  },
  {
   "cell_type": "markdown",
   "metadata": {},
   "source": [
    "## Outliers : the accounts\n",
    "\n",
    "Some account are really suspicious and after normalisation and center, contains more than 47 fore some features. We will look closely."
   ]
  },
  {
   "cell_type": "code",
   "execution_count": null,
   "metadata": {},
   "outputs": [],
   "source": [
    "followers = data.copy()"
   ]
  },
  {
   "cell_type": "code",
   "execution_count": null,
   "metadata": {},
   "outputs": [],
   "source": [
    "followers = followers.sort_values(by=[\"user_followers_count\"],ascending=False)"
   ]
  },
  {
   "cell_type": "markdown",
   "metadata": {},
   "source": [
    "### Above 47 \n",
    "There are only a few tweets, and the best value to predict is 40000 retweets.\n",
    "\n",
    "### Between 30 and 47 \n",
    "Best retweet value is 17000.\n",
    "\n",
    "### Below 30 \n",
    "The retweet numbers are not that high constantly. It is not relevent to predict a constant value there."
   ]
  },
  {
   "cell_type": "code",
   "execution_count": null,
   "metadata": {},
   "outputs": [],
   "source": [
    "S = 0 # error if we predict 0\n",
    "e = 0 # error if we predict 17 000\n",
    "for k in range(followers.shape[0]) :\n",
    "    tweet = followers.iloc[k]\n",
    "    # here between 30 and 47\n",
    "    if tweet.user_followers_count > 30  : \n",
    "        if tweet.user_followers_count < 47 :\n",
    "            S += tweet.retweet_count\n",
    "            e+= abs(tweet.retweet_count-17000)\n",
    "            # show the tweets\n",
    "            #print(tweet.user_followers_count,tweet.retweet_count)\n",
    "    else :\n",
    "        break\n",
    "#print(S,e)"
   ]
  },
  {
   "cell_type": "markdown",
   "metadata": {},
   "source": [
    "## Drop the rest"
   ]
  },
  {
   "cell_type": "code",
   "execution_count": null,
   "metadata": {},
   "outputs": [],
   "source": [
    "to_drop = [\"timestamp\",\"user_mentions\",\"urls\",\"hashtags\",\"text\"]\n",
    "data = data.drop(columns = to_drop)\n",
    "data_eval = data_eval.drop(columns = to_drop)"
   ]
  },
  {
   "cell_type": "markdown",
   "metadata": {},
   "source": [
    "## Save the data"
   ]
  },
  {
   "cell_type": "code",
   "execution_count": 22,
   "metadata": {},
   "outputs": [],
   "source": [
    "data.to_csv(\"data/training_process.csv\")\n",
    "data_eval.to_csv(\"data/evaluation_process.csv\")"
   ]
  }
 ],
 "metadata": {
  "kernelspec": {
   "display_name": "Python 3",
   "language": "python",
   "name": "python3"
  },
  "language_info": {
   "codemirror_mode": {
    "name": "ipython",
    "version": 3
   },
   "file_extension": ".py",
   "mimetype": "text/x-python",
   "name": "python",
   "nbconvert_exporter": "python",
   "pygments_lexer": "ipython3",
   "version": "3.7.8"
  }
 },
 "nbformat": 4,
 "nbformat_minor": 4
}
